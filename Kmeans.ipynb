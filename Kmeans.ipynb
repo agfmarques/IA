{
 "cells": [
  {
   "cell_type": "markdown",
   "metadata": {
    "id": "n-LO3AFpJccR"
   },
   "source": [
    "**Algoritmo de Agrupamento Kmeans**\n",
    "\n",
    "**Código baseado em:**\n",
    "\n",
    "1) https://www.kaggle.com/code/khotijahs1/k-means-clustering-of-iris-dataset\n",
    "\n",
    "2) https://realpython.com/k-means-clustering-python/"
   ]
  },
  {
   "cell_type": "code",
   "execution_count": 22,
   "metadata": {
    "colab": {
     "base_uri": "https://localhost:8080/"
    },
    "id": "wpGQrlxrcuYX",
    "outputId": "54d02992-73b0-4039-c575-00b260089d84"
   },
   "outputs": [
    {
     "name": "stdout",
     "output_type": "stream",
     "text": [
      "Defaulting to user installation because normal site-packages is not writeable\n",
      "Requirement already satisfied: plotly in c:\\users\\angelo.marques\\appdata\\roaming\\python\\python312\\site-packages (6.0.1)\n",
      "Requirement already satisfied: narwhals>=1.15.1 in c:\\users\\angelo.marques\\appdata\\roaming\\python\\python312\\site-packages (from plotly) (1.35.0)\n",
      "Requirement already satisfied: packaging in c:\\users\\angelo.marques\\appdata\\roaming\\python\\python312\\site-packages (from plotly) (24.2)\n",
      "Requirement already satisfied: kneed in c:\\users\\angelo.marques\\appdata\\local\\programs\\python\\python313\\lib\\site-packages (0.8.5)\n",
      "Requirement already satisfied: numpy>=1.14.2 in c:\\users\\angelo.marques\\appdata\\local\\programs\\python\\python313\\lib\\site-packages (from kneed) (2.2.3)\n",
      "Requirement already satisfied: scipy>=1.0.0 in c:\\users\\angelo.marques\\appdata\\local\\programs\\python\\python313\\lib\\site-packages (from kneed) (1.15.2)\n",
      "Note: you may need to restart the kernel to use updated packages.\n"
     ]
    }
   ],
   "source": [
    "!pip install plotly --upgrade\n",
    "%pip install kneed"
   ]
  },
  {
   "cell_type": "code",
   "execution_count": 23,
   "metadata": {
    "id": "WQ4jeik5c0qQ"
   },
   "outputs": [],
   "source": [
    "import plotly.express as px\n",
    "import plotly.graph_objects as go\n",
    "import matplotlib.pyplot as plt\n",
    "import numpy as np\n",
    "import seaborn as sns\n",
    "from sklearn.cluster import KMeans #Importando a função Kmeans\n",
    "from sklearn.preprocessing import StandardScaler #Função utilizada para normalização dos dados\n",
    "from sklearn.metrics import silhouette_score\n",
    "from sklearn.preprocessing import MinMaxScaler #Função utilizada para normalização dos dados\n",
    "from kneed import KneeLocator\n",
    "import pandas as pd\n",
    "from sklearn.metrics import calinski_harabasz_score"
   ]
  },
  {
   "cell_type": "code",
   "execution_count": 24,
   "metadata": {
    "colab": {
     "base_uri": "https://localhost:8080/",
     "height": 478
    },
    "id": "koV8uHMxkW5V",
    "outputId": "a816eac1-ab7b-459f-d178-06ccc104c51c"
   },
   "outputs": [
    {
     "data": {
      "text/html": [
       "<div>\n",
       "<style scoped>\n",
       "    .dataframe tbody tr th:only-of-type {\n",
       "        vertical-align: middle;\n",
       "    }\n",
       "\n",
       "    .dataframe tbody tr th {\n",
       "        vertical-align: top;\n",
       "    }\n",
       "\n",
       "    .dataframe thead th {\n",
       "        text-align: right;\n",
       "    }\n",
       "</style>\n",
       "<table border=\"1\" class=\"dataframe\">\n",
       "  <thead>\n",
       "    <tr style=\"text-align: right;\">\n",
       "      <th></th>\n",
       "      <th>sepallength</th>\n",
       "      <th>sepalwidth</th>\n",
       "      <th>petallength</th>\n",
       "      <th>petalwidth</th>\n",
       "      <th>class</th>\n",
       "    </tr>\n",
       "  </thead>\n",
       "  <tbody>\n",
       "    <tr>\n",
       "      <th>0</th>\n",
       "      <td>5.1</td>\n",
       "      <td>3.5</td>\n",
       "      <td>1.4</td>\n",
       "      <td>0.2</td>\n",
       "      <td>Iris-setosa</td>\n",
       "    </tr>\n",
       "    <tr>\n",
       "      <th>1</th>\n",
       "      <td>4.9</td>\n",
       "      <td>3.0</td>\n",
       "      <td>1.4</td>\n",
       "      <td>0.2</td>\n",
       "      <td>Iris-setosa</td>\n",
       "    </tr>\n",
       "    <tr>\n",
       "      <th>2</th>\n",
       "      <td>4.7</td>\n",
       "      <td>3.2</td>\n",
       "      <td>1.3</td>\n",
       "      <td>0.2</td>\n",
       "      <td>Iris-setosa</td>\n",
       "    </tr>\n",
       "    <tr>\n",
       "      <th>3</th>\n",
       "      <td>4.6</td>\n",
       "      <td>3.1</td>\n",
       "      <td>1.5</td>\n",
       "      <td>0.2</td>\n",
       "      <td>Iris-setosa</td>\n",
       "    </tr>\n",
       "    <tr>\n",
       "      <th>4</th>\n",
       "      <td>5.0</td>\n",
       "      <td>3.6</td>\n",
       "      <td>1.4</td>\n",
       "      <td>0.2</td>\n",
       "      <td>Iris-setosa</td>\n",
       "    </tr>\n",
       "    <tr>\n",
       "      <th>...</th>\n",
       "      <td>...</td>\n",
       "      <td>...</td>\n",
       "      <td>...</td>\n",
       "      <td>...</td>\n",
       "      <td>...</td>\n",
       "    </tr>\n",
       "    <tr>\n",
       "      <th>141</th>\n",
       "      <td>6.7</td>\n",
       "      <td>3.0</td>\n",
       "      <td>5.2</td>\n",
       "      <td>2.3</td>\n",
       "      <td>Iris-virginica</td>\n",
       "    </tr>\n",
       "    <tr>\n",
       "      <th>142</th>\n",
       "      <td>6.3</td>\n",
       "      <td>2.5</td>\n",
       "      <td>5.0</td>\n",
       "      <td>1.9</td>\n",
       "      <td>Iris-virginica</td>\n",
       "    </tr>\n",
       "    <tr>\n",
       "      <th>143</th>\n",
       "      <td>6.5</td>\n",
       "      <td>3.0</td>\n",
       "      <td>5.2</td>\n",
       "      <td>2.0</td>\n",
       "      <td>Iris-virginica</td>\n",
       "    </tr>\n",
       "    <tr>\n",
       "      <th>144</th>\n",
       "      <td>6.2</td>\n",
       "      <td>3.4</td>\n",
       "      <td>5.4</td>\n",
       "      <td>2.3</td>\n",
       "      <td>Iris-virginica</td>\n",
       "    </tr>\n",
       "    <tr>\n",
       "      <th>145</th>\n",
       "      <td>5.9</td>\n",
       "      <td>3.0</td>\n",
       "      <td>5.1</td>\n",
       "      <td>1.8</td>\n",
       "      <td>Iris-virginica</td>\n",
       "    </tr>\n",
       "  </tbody>\n",
       "</table>\n",
       "<p>146 rows × 5 columns</p>\n",
       "</div>"
      ],
      "text/plain": [
       "     sepallength  sepalwidth  petallength  petalwidth           class\n",
       "0            5.1         3.5          1.4         0.2     Iris-setosa\n",
       "1            4.9         3.0          1.4         0.2     Iris-setosa\n",
       "2            4.7         3.2          1.3         0.2     Iris-setosa\n",
       "3            4.6         3.1          1.5         0.2     Iris-setosa\n",
       "4            5.0         3.6          1.4         0.2     Iris-setosa\n",
       "..           ...         ...          ...         ...             ...\n",
       "141          6.7         3.0          5.2         2.3  Iris-virginica\n",
       "142          6.3         2.5          5.0         1.9  Iris-virginica\n",
       "143          6.5         3.0          5.2         2.0  Iris-virginica\n",
       "144          6.2         3.4          5.4         2.3  Iris-virginica\n",
       "145          5.9         3.0          5.1         1.8  Iris-virginica\n",
       "\n",
       "[146 rows x 5 columns]"
      ]
     },
     "execution_count": 24,
     "metadata": {},
     "output_type": "execute_result"
    }
   ],
   "source": [
    "import pandas as pd\n",
    "base= pd.read_csv('Iris.csv', sep=';')\n",
    "base"
   ]
  },
  {
   "cell_type": "code",
   "execution_count": 25,
   "metadata": {
    "colab": {
     "base_uri": "https://localhost:8080/"
    },
    "id": "zZyTwn99lrEW",
    "outputId": "c71c8e14-2a38-44f8-ba72-bf9163fcd6e8"
   },
   "outputs": [],
   "source": [
    "columns = base.columns[0:4]"
   ]
  },
  {
   "cell_type": "code",
   "execution_count": 26,
   "metadata": {},
   "outputs": [
    {
     "name": "stdout",
     "output_type": "stream",
     "text": [
      "Original shape: (146, 5), Cleaned shape: (146, 5)\n"
     ]
    }
   ],
   "source": [
    "# Função para remover outliers usando IQR\n",
    "def remove_outliers(df, columns):\n",
    "    for col in columns:\n",
    "        Q1 = df[col].quantile(0.25)\n",
    "        Q3 = df[col].quantile(0.75)\n",
    "        IQR = Q3 - Q1\n",
    "        lower_bound = Q1 - 1.5 * IQR\n",
    "        upper_bound = Q3 + 1.5 * IQR\n",
    "        df = df[(df[col] >= lower_bound) & (df[col] <= upper_bound)]\n",
    "    return df\n",
    "\n",
    "\n",
    "df_clean = remove_outliers(base, columns)\n",
    "print(f\"Original shape: {base.shape}, Cleaned shape: {df_clean.shape}\")\n",
    "base = df_clean"
   ]
  },
  {
   "cell_type": "code",
   "execution_count": 27,
   "metadata": {},
   "outputs": [],
   "source": [
    "import numpy as np\n",
    "from scipy.spatial.distance import cdist\n",
    "\n",
    "def dunn_index(X, labels):\n",
    "    clusters = np.unique(labels)\n",
    "    min_intercluster = np.inf\n",
    "    max_intracluster = 0\n",
    "\n",
    "    # Calcular distância mínima entre clusters\n",
    "    for i in range(len(clusters)):\n",
    "        for j in range(i + 1, len(clusters)):\n",
    "            points_cluster_i = X[labels == clusters[i]]\n",
    "            points_cluster_j = X[labels == clusters[j]]\n",
    "            distances = cdist(points_cluster_i, points_cluster_j)\n",
    "            min_distance = np.min(distances)\n",
    "            if min_distance < min_intercluster:\n",
    "                min_intercluster = min_distance\n",
    "\n",
    "    # Calcular diâmetro máximo dentro dos clusters\n",
    "    for cluster in clusters:\n",
    "        points = X[labels == cluster]\n",
    "        if len(points) > 1:\n",
    "            distances = cdist(points, points)\n",
    "            max_distance = np.max(distances)\n",
    "            if max_distance > max_intracluster:\n",
    "                max_intracluster = max_distance\n",
    "\n",
    "    # Índice de Dunn\n",
    "    return min_intercluster / max_intracluster\n"
   ]
  },
  {
   "cell_type": "code",
   "execution_count": 28,
   "metadata": {},
   "outputs": [
    {
     "data": {
      "text/plain": [
       "(146, 4)"
      ]
     },
     "execution_count": 28,
     "metadata": {},
     "output_type": "execute_result"
    }
   ],
   "source": [
    "Entrada = base.iloc[:, 0:4].values\n",
    "Entrada.shape"
   ]
  },
  {
   "cell_type": "code",
   "execution_count": 29,
   "metadata": {
    "id": "oFwWIW3nl4ZN"
   },
   "outputs": [],
   "source": [
    "#scaler = StandardScaler()\n",
    "scaler = MinMaxScaler()\n",
    "Entrada = scaler.fit_transform(Entrada)"
   ]
  },
  {
   "cell_type": "code",
   "execution_count": 30,
   "metadata": {
    "colab": {
     "base_uri": "https://localhost:8080/"
    },
    "id": "-sKnRD6zl_hm",
    "outputId": "b106b65b-aeb0-4542-a256-cc07925700c3"
   },
   "outputs": [
    {
     "data": {
      "text/plain": [
       "array([[0.22222222, 0.72222222, 0.06779661, 0.04166667],\n",
       "       [0.16666667, 0.44444444, 0.06779661, 0.04166667],\n",
       "       [0.11111111, 0.55555556, 0.05084746, 0.04166667],\n",
       "       [0.08333333, 0.5       , 0.08474576, 0.04166667],\n",
       "       [0.19444444, 0.77777778, 0.06779661, 0.04166667],\n",
       "       [0.30555556, 0.94444444, 0.11864407, 0.125     ],\n",
       "       [0.08333333, 0.66666667, 0.06779661, 0.08333333],\n",
       "       [0.19444444, 0.66666667, 0.08474576, 0.04166667],\n",
       "       [0.02777778, 0.38888889, 0.06779661, 0.04166667],\n",
       "       [0.16666667, 0.5       , 0.08474576, 0.        ],\n",
       "       [0.30555556, 0.83333333, 0.08474576, 0.04166667],\n",
       "       [0.13888889, 0.66666667, 0.10169492, 0.04166667],\n",
       "       [0.13888889, 0.44444444, 0.06779661, 0.        ],\n",
       "       [0.        , 0.44444444, 0.01694915, 0.        ],\n",
       "       [0.41666667, 1.        , 0.03389831, 0.04166667],\n",
       "       [0.30555556, 0.94444444, 0.05084746, 0.125     ],\n",
       "       [0.22222222, 0.72222222, 0.06779661, 0.08333333],\n",
       "       [0.38888889, 0.88888889, 0.11864407, 0.08333333],\n",
       "       [0.22222222, 0.88888889, 0.08474576, 0.08333333],\n",
       "       [0.30555556, 0.66666667, 0.11864407, 0.04166667],\n",
       "       [0.22222222, 0.83333333, 0.08474576, 0.125     ],\n",
       "       [0.08333333, 0.77777778, 0.        , 0.04166667],\n",
       "       [0.22222222, 0.61111111, 0.11864407, 0.16666667],\n",
       "       [0.13888889, 0.66666667, 0.15254237, 0.04166667],\n",
       "       [0.19444444, 0.44444444, 0.10169492, 0.04166667],\n",
       "       [0.19444444, 0.66666667, 0.10169492, 0.125     ],\n",
       "       [0.25      , 0.72222222, 0.08474576, 0.04166667],\n",
       "       [0.25      , 0.66666667, 0.06779661, 0.04166667],\n",
       "       [0.11111111, 0.55555556, 0.10169492, 0.04166667],\n",
       "       [0.13888889, 0.5       , 0.10169492, 0.04166667],\n",
       "       [0.30555556, 0.66666667, 0.08474576, 0.125     ],\n",
       "       [0.16666667, 0.5       , 0.08474576, 0.        ],\n",
       "       [0.19444444, 0.55555556, 0.03389831, 0.04166667],\n",
       "       [0.33333333, 0.72222222, 0.05084746, 0.04166667],\n",
       "       [0.16666667, 0.5       , 0.08474576, 0.        ],\n",
       "       [0.02777778, 0.44444444, 0.05084746, 0.04166667],\n",
       "       [0.22222222, 0.66666667, 0.08474576, 0.04166667],\n",
       "       [0.19444444, 0.72222222, 0.05084746, 0.08333333],\n",
       "       [0.05555556, 0.05555556, 0.05084746, 0.08333333],\n",
       "       [0.02777778, 0.55555556, 0.05084746, 0.04166667],\n",
       "       [0.19444444, 0.72222222, 0.10169492, 0.20833333],\n",
       "       [0.22222222, 0.88888889, 0.15254237, 0.125     ],\n",
       "       [0.13888889, 0.44444444, 0.06779661, 0.08333333],\n",
       "       [0.22222222, 0.88888889, 0.10169492, 0.04166667],\n",
       "       [0.08333333, 0.55555556, 0.06779661, 0.04166667],\n",
       "       [0.27777778, 0.83333333, 0.08474576, 0.04166667],\n",
       "       [0.19444444, 0.61111111, 0.06779661, 0.04166667],\n",
       "       [0.75      , 0.55555556, 0.62711864, 0.54166667],\n",
       "       [0.58333333, 0.55555556, 0.59322034, 0.58333333],\n",
       "       [0.72222222, 0.5       , 0.66101695, 0.58333333],\n",
       "       [0.33333333, 0.05555556, 0.50847458, 0.5       ],\n",
       "       [0.61111111, 0.33333333, 0.61016949, 0.58333333],\n",
       "       [0.38888889, 0.33333333, 0.59322034, 0.5       ],\n",
       "       [0.55555556, 0.61111111, 0.62711864, 0.625     ],\n",
       "       [0.16666667, 0.11111111, 0.38983051, 0.375     ],\n",
       "       [0.63888889, 0.38888889, 0.61016949, 0.5       ],\n",
       "       [0.25      , 0.27777778, 0.49152542, 0.54166667],\n",
       "       [0.44444444, 0.44444444, 0.54237288, 0.58333333],\n",
       "       [0.47222222, 0.        , 0.50847458, 0.375     ],\n",
       "       [0.5       , 0.38888889, 0.62711864, 0.54166667],\n",
       "       [0.36111111, 0.38888889, 0.44067797, 0.5       ],\n",
       "       [0.66666667, 0.5       , 0.57627119, 0.54166667],\n",
       "       [0.36111111, 0.44444444, 0.59322034, 0.58333333],\n",
       "       [0.41666667, 0.27777778, 0.52542373, 0.375     ],\n",
       "       [0.52777778, 0.        , 0.59322034, 0.58333333],\n",
       "       [0.36111111, 0.16666667, 0.49152542, 0.41666667],\n",
       "       [0.44444444, 0.55555556, 0.6440678 , 0.70833333],\n",
       "       [0.5       , 0.33333333, 0.50847458, 0.5       ],\n",
       "       [0.55555556, 0.16666667, 0.66101695, 0.58333333],\n",
       "       [0.5       , 0.33333333, 0.62711864, 0.45833333],\n",
       "       [0.58333333, 0.38888889, 0.55932203, 0.5       ],\n",
       "       [0.63888889, 0.44444444, 0.57627119, 0.54166667],\n",
       "       [0.69444444, 0.33333333, 0.6440678 , 0.54166667],\n",
       "       [0.66666667, 0.44444444, 0.6779661 , 0.66666667],\n",
       "       [0.47222222, 0.38888889, 0.59322034, 0.58333333],\n",
       "       [0.38888889, 0.22222222, 0.42372881, 0.375     ],\n",
       "       [0.33333333, 0.11111111, 0.47457627, 0.41666667],\n",
       "       [0.33333333, 0.11111111, 0.45762712, 0.375     ],\n",
       "       [0.41666667, 0.27777778, 0.49152542, 0.45833333],\n",
       "       [0.47222222, 0.27777778, 0.69491525, 0.625     ],\n",
       "       [0.30555556, 0.44444444, 0.59322034, 0.58333333],\n",
       "       [0.47222222, 0.66666667, 0.59322034, 0.625     ],\n",
       "       [0.66666667, 0.5       , 0.62711864, 0.58333333],\n",
       "       [0.55555556, 0.05555556, 0.57627119, 0.5       ],\n",
       "       [0.36111111, 0.44444444, 0.52542373, 0.5       ],\n",
       "       [0.33333333, 0.16666667, 0.50847458, 0.5       ],\n",
       "       [0.33333333, 0.22222222, 0.57627119, 0.45833333],\n",
       "       [0.5       , 0.44444444, 0.61016949, 0.54166667],\n",
       "       [0.41666667, 0.22222222, 0.50847458, 0.45833333],\n",
       "       [0.19444444, 0.05555556, 0.38983051, 0.375     ],\n",
       "       [0.36111111, 0.27777778, 0.54237288, 0.5       ],\n",
       "       [0.38888889, 0.44444444, 0.54237288, 0.45833333],\n",
       "       [0.38888889, 0.38888889, 0.54237288, 0.5       ],\n",
       "       [0.52777778, 0.38888889, 0.55932203, 0.5       ],\n",
       "       [0.22222222, 0.16666667, 0.33898305, 0.41666667],\n",
       "       [0.38888889, 0.33333333, 0.52542373, 0.5       ],\n",
       "       [0.55555556, 0.61111111, 0.84745763, 1.        ],\n",
       "       [0.41666667, 0.27777778, 0.69491525, 0.75      ],\n",
       "       [0.77777778, 0.44444444, 0.83050847, 0.83333333],\n",
       "       [0.55555556, 0.38888889, 0.77966102, 0.70833333],\n",
       "       [0.61111111, 0.44444444, 0.81355932, 0.875     ],\n",
       "       [0.91666667, 0.44444444, 0.94915254, 0.83333333],\n",
       "       [0.16666667, 0.16666667, 0.59322034, 0.66666667],\n",
       "       [0.83333333, 0.38888889, 0.89830508, 0.70833333],\n",
       "       [0.66666667, 0.16666667, 0.81355932, 0.70833333],\n",
       "       [0.80555556, 0.77777778, 0.86440678, 1.        ],\n",
       "       [0.61111111, 0.55555556, 0.69491525, 0.79166667],\n",
       "       [0.58333333, 0.27777778, 0.72881356, 0.75      ],\n",
       "       [0.69444444, 0.44444444, 0.76271186, 0.83333333],\n",
       "       [0.38888889, 0.16666667, 0.6779661 , 0.79166667],\n",
       "       [0.41666667, 0.33333333, 0.69491525, 0.95833333],\n",
       "       [0.58333333, 0.55555556, 0.72881356, 0.91666667],\n",
       "       [0.61111111, 0.44444444, 0.76271186, 0.70833333],\n",
       "       [0.94444444, 0.88888889, 0.96610169, 0.875     ],\n",
       "       [0.94444444, 0.22222222, 1.        , 0.91666667],\n",
       "       [0.47222222, 0.        , 0.6779661 , 0.58333333],\n",
       "       [0.72222222, 0.55555556, 0.79661017, 0.91666667],\n",
       "       [0.36111111, 0.33333333, 0.66101695, 0.79166667],\n",
       "       [0.94444444, 0.33333333, 0.96610169, 0.79166667],\n",
       "       [0.55555556, 0.27777778, 0.66101695, 0.70833333],\n",
       "       [0.66666667, 0.61111111, 0.79661017, 0.83333333],\n",
       "       [0.80555556, 0.55555556, 0.84745763, 0.70833333],\n",
       "       [0.52777778, 0.33333333, 0.6440678 , 0.70833333],\n",
       "       [0.5       , 0.44444444, 0.66101695, 0.70833333],\n",
       "       [0.58333333, 0.33333333, 0.77966102, 0.83333333],\n",
       "       [0.80555556, 0.44444444, 0.81355932, 0.625     ],\n",
       "       [0.86111111, 0.33333333, 0.86440678, 0.75      ],\n",
       "       [1.        , 0.88888889, 0.91525424, 0.79166667],\n",
       "       [0.58333333, 0.33333333, 0.77966102, 0.875     ],\n",
       "       [0.55555556, 0.33333333, 0.69491525, 0.58333333],\n",
       "       [0.5       , 0.22222222, 0.77966102, 0.54166667],\n",
       "       [0.94444444, 0.44444444, 0.86440678, 0.91666667],\n",
       "       [0.55555556, 0.66666667, 0.77966102, 0.95833333],\n",
       "       [0.58333333, 0.5       , 0.76271186, 0.70833333],\n",
       "       [0.47222222, 0.44444444, 0.6440678 , 0.70833333],\n",
       "       [0.72222222, 0.5       , 0.74576271, 0.83333333],\n",
       "       [0.66666667, 0.5       , 0.77966102, 0.95833333],\n",
       "       [0.72222222, 0.5       , 0.69491525, 0.91666667],\n",
       "       [0.41666667, 0.27777778, 0.69491525, 0.75      ],\n",
       "       [0.69444444, 0.55555556, 0.83050847, 0.91666667],\n",
       "       [0.66666667, 0.61111111, 0.79661017, 1.        ],\n",
       "       [0.66666667, 0.44444444, 0.71186441, 0.91666667],\n",
       "       [0.55555556, 0.16666667, 0.6779661 , 0.75      ],\n",
       "       [0.61111111, 0.44444444, 0.71186441, 0.79166667],\n",
       "       [0.52777778, 0.66666667, 0.74576271, 0.91666667],\n",
       "       [0.44444444, 0.44444444, 0.69491525, 0.70833333]])"
      ]
     },
     "execution_count": 30,
     "metadata": {},
     "output_type": "execute_result"
    }
   ],
   "source": [
    "Entrada"
   ]
  },
  {
   "cell_type": "markdown",
   "metadata": {
    "id": "CIQAf4tDvLpn"
   },
   "source": [
    "Para analisar Silhouette:\n",
    "https://scikit-learn.org/stable/auto_examples/cluster/plot_kmeans_silhouette_analysis.html"
   ]
  },
  {
   "cell_type": "code",
   "execution_count": 31,
   "metadata": {
    "colab": {
     "base_uri": "https://localhost:8080/"
    },
    "id": "mDO4tmW9uRDI",
    "outputId": "f159a3b5-8fa1-4235-fcb0-3cf28b07a486"
   },
   "outputs": [
    {
     "name": "stdout",
     "output_type": "stream",
     "text": [
      "Silhouette Score k = 2: 0.618\n",
      "Silhouette Score k = 3: 0.480\n",
      "Silhouette Score k = 4: 0.432\n",
      "Silhouette Score k = 5: 0.350\n",
      "Silhouette Score k = 6: 0.349\n",
      "Silhouette Score k = 7: 0.323\n",
      "Silhouette Score k = 8: 0.312\n"
     ]
    }
   ],
   "source": [
    "# Determinando a Silhouette para número máximo de cluster estimado (Raiz(instâncias/2)\n",
    "limit = int((Entrada.shape[0]//2)**0.5)\n",
    "for k in range(2, limit+1):\n",
    "    model = KMeans(n_clusters=k)\n",
    "    model.fit(Entrada)\n",
    "    pred = model.predict(Entrada)\n",
    "    score = silhouette_score(Entrada, pred)\n",
    "    print('Silhouette Score k = {}: {:<.3f}'.format(k, score))"
   ]
  },
  {
   "cell_type": "markdown",
   "metadata": {
    "id": "lQGjCVG7swuD"
   },
   "source": [
    "**WCSS - Within Clusters Sum of Squares = é a soma dos quadrados dentro dos clusters**\n",
    "https://rpubs.com/diascodes/770518\n",
    "\n",
    "Veja: https://en.wikipedia.org/wiki/Elbow_method_(clustering)"
   ]
  },
  {
   "cell_type": "code",
   "execution_count": 32,
   "metadata": {
    "id": "tSr4_r0RmaEH"
   },
   "outputs": [],
   "source": [
    "wcss = []\n",
    "for i in range(2, 11):\n",
    "  #print(i)\n",
    "  kmeans = KMeans(n_clusters=i, random_state=10)\n",
    "  kmeans.fit(Entrada)\n",
    "  wcss.append(kmeans.inertia_)"
   ]
  },
  {
   "cell_type": "markdown",
   "metadata": {
    "id": "UBynqwvtrOr0"
   },
   "source": [
    "**Usando o método Elbow para encontrar o número ideal de clusters**"
   ]
  },
  {
   "cell_type": "code",
   "execution_count": 33,
   "metadata": {
    "colab": {
     "base_uri": "https://localhost:8080/"
    },
    "id": "T-z5GIHum9KQ",
    "outputId": "3ab31c92-d0a2-452a-d99b-21370505e256"
   },
   "outputs": [
    {
     "data": {
      "text/plain": [
       "[13.346128868470906,\n",
       " 7.999186906126225,\n",
       " 6.437940996517078,\n",
       " 6.021093626130889,\n",
       " 5.1993771005474265,\n",
       " 4.965741105215714,\n",
       " 4.562148938896034,\n",
       " 4.097802081868766,\n",
       " 2.9475555499496684]"
      ]
     },
     "execution_count": 33,
     "metadata": {},
     "output_type": "execute_result"
    }
   ],
   "source": [
    "wcss"
   ]
  },
  {
   "cell_type": "markdown",
   "metadata": {
    "id": "F7xaTuy5wF3e"
   },
   "source": [
    "**Vamos analisar o ponto de inflexão dessa curva?**"
   ]
  },
  {
   "cell_type": "code",
   "execution_count": 34,
   "metadata": {
    "colab": {
     "base_uri": "https://localhost:8080/",
     "height": 325
    },
    "id": "033XG7xmFCif",
    "outputId": "91c8c7a0-ddae-4d44-c1e1-5af12209e59d"
   },
   "outputs": [
    {
     "data": {
      "image/png": "[encoded data removed]",
      "text/plain": [
       "<Figure size 640x480 with 1 Axes>"
      ]
     },
     "metadata": {},
     "output_type": "display_data"
    }
   ],
   "source": [
    "plt.style.use(\"fivethirtyeight\")\n",
    "plt.plot(range(2, 11), wcss)\n",
    "plt.xticks(range(2, 11))\n",
    "plt.title('The elbow method')\n",
    "plt.xlabel(\"Number of Clusters\")\n",
    "plt.ylabel(\"SSE\")\n",
    "plt.show()"
   ]
  },
  {
   "cell_type": "code",
   "execution_count": 35,
   "metadata": {
    "colab": {
     "base_uri": "https://localhost:8080/"
    },
    "id": "IN4GqAVKBXab",
    "outputId": "5c70e4e6-9d90-48f2-bf36-608be657748a"
   },
   "outputs": [
    {
     "data": {
      "text/plain": [
       "np.int64(4)"
      ]
     },
     "execution_count": 35,
     "metadata": {},
     "output_type": "execute_result"
    }
   ],
   "source": [
    "kl = KneeLocator(range(2, 11), wcss, curve=\"convex\", direction=\"decreasing\")\n",
    "kl.elbow"
   ]
  },
  {
   "cell_type": "code",
   "execution_count": 36,
   "metadata": {
    "id": "4bBr58-EncMb"
   },
   "outputs": [
    {
     "name": "stdout",
     "output_type": "stream",
     "text": [
      "Dunn Index: 0.0944\n",
      "Índice de Calinski-Harabasz: 549.77\n"
     ]
    }
   ],
   "source": [
    "#K-means++ é um método de otimização de centroide para ajudar o modelo a convergir mais rapidamente\n",
    "kmeans = KMeans(n_clusters=3, random_state=0)\n",
    "#kmeans = KMeans(n_clusters = 3, init = 'k-means++', max_iter = 300, n_init = 10, random_state = 0)\n",
    "saida_kmeans = kmeans.fit_predict(Entrada)\n",
    "\n",
    "base_numerica = base.iloc[:, :-1]   # 👈 pega todas as colunas menos a última\n",
    "\n",
    "base_numerica = base_numerica.astype(float)\n",
    "\n",
    "dunn = dunn_index(base_numerica, saida_kmeans)\n",
    "print(f\"Dunn Index: {dunn:.4f}\")\n",
    "\n",
    "score_ch = calinski_harabasz_score(base_numerica, saida_kmeans)\n",
    "print(f\"Índice de Calinski-Harabasz: {score_ch:.2f}\")"
   ]
  },
  {
   "cell_type": "code",
   "execution_count": 37,
   "metadata": {
    "colab": {
     "base_uri": "https://localhost:8080/",
     "height": 299
    },
    "id": "4R6QFAE9JLxT",
    "outputId": "0ad6884c-7969-4c05-e6ab-d73a1dd75379"
   },
   "outputs": [
    {
     "data": {
      "text/plain": [
       "<matplotlib.legend.Legend at 0x1e6c85163c0>"
      ]
     },
     "execution_count": 37,
     "metadata": {},
     "output_type": "execute_result"
    },
    {
     "data": {
      "image/png": "[encoded data removed]",
      "text/plain": [
       "<Figure size 640x480 with 1 Axes>"
      ]
     },
     "metadata": {},
     "output_type": "display_data"
    }
   ],
   "source": [
    "#Visualising the clusters\n",
    "plt.scatter(Entrada[saida_kmeans == 0, 0], Entrada[saida_kmeans == 0, 1], s = 100, c = 'purple', label = 'Iris-setosa')\n",
    "plt.scatter(Entrada[saida_kmeans == 1, 0], Entrada[saida_kmeans == 1, 1], s = 100, c = 'orange', label = 'Iris-versicolour')\n",
    "plt.scatter(Entrada[saida_kmeans == 2, 0], Entrada[saida_kmeans == 2, 1], s = 100, c = 'green', label = 'Iris-virginica')\n",
    "#Plotting the centroids of the clusters\n",
    "plt.scatter(kmeans.cluster_centers_[:, 0], kmeans.cluster_centers_[:,1], s = 100, c = 'red', label = 'Centroids')\n",
    "plt.legend()"
   ]
  },
  {
   "cell_type": "code",
   "execution_count": null,
   "metadata": {},
   "outputs": [],
   "source": []
  },
  {
   "cell_type": "code",
   "execution_count": null,
   "metadata": {},
   "outputs": [],
   "source": []
  }
 ],
 "metadata": {
  "colab": {
   "collapsed_sections": [],
   "provenance": []
  },
  "kernelspec": {
   "display_name": "Python 3 (ipykernel)",
   "language": "python",
   "name": "python3"
  },
  "language_info": {
   "codemirror_mode": {
    "name": "ipython",
    "version": 3
   },
   "file_extension": ".py",
   "mimetype": "text/x-python",
   "name": "python",
   "nbconvert_exporter": "python",
   "pygments_lexer": "ipython3",
   "version": "3.13.2"
  }
 },
 "nbformat": 4,
 "nbformat_minor": 4
}
